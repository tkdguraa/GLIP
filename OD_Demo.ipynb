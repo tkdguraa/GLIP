{
 "cells": [
  {
   "cell_type": "code",
   "execution_count": null,
   "id": "4855f012-7598-4be6-ad81-ff0b6c1f1bb6",
   "metadata": {},
   "outputs": [],
   "source": [
    "import matplotlib.pyplot as plt\n",
    "import matplotlib.pylab as pylab\n",
    "import os\n",
    "from tqdm import tqdm\n",
    "\n",
    "import cv2\n",
    "import requests\n",
    "from io import BytesIO\n",
    "from PIL import Image\n",
    "import numpy as np\n",
    "import glob\n",
    "from maskrcnn_benchmark.config import cfg\n",
    "from maskrcnn_benchmark.engine.predictor_glip import GLIPDemo\n",
    "\n",
    "\n",
    "def load(file):\n",
    "    response = requests.get(url)\n",
    "    pil_image = Image.open(BytesIO(response.content)).convert(\"RGB\")\n",
    "    # convert to BGR format\n",
    "    image = np.array(pil_image)[:, :, [2, 1, 0]]\n",
    "    return image\n",
    "\n",
    "def imshow(img, filename):\n",
    "    cv2.imwrite(filename, img)"
   ]
  },
  {
   "cell_type": "code",
   "execution_count": 2,
   "id": "6c93fc5a-eb8f-4840-9eed-f81857945553",
   "metadata": {},
   "outputs": [],
   "source": [
    "config_file = \"configs/pretrain/glip_Swin_T_O365_GoldG.yaml\"\n",
    "weight_file = \"MODEL/glip_tiny_model_o365_goldg_cc_sbu.pth\"\n",
    "\n",
    "\n",
    "cfg.local_rank = 0\n",
    "cfg.num_gpus = 1\n",
    "cfg.merge_from_file(config_file)\n",
    "cfg.merge_from_list([\"MODEL.WEIGHT\", weight_file])\n",
    "cfg.merge_from_list([\"MODEL.DEVICE\", \"cuda\"])\n"
   ]
  },
  {
   "cell_type": "code",
   "execution_count": null,
   "id": "326847ad-6af6-4dd3-94a6-27f9fc21d47c",
   "metadata": {},
   "outputs": [],
   "source": [
    "glip_demo = GLIPDemo(\n",
    "    cfg,\n",
    "    min_image_size=800,\n",
    "    confidence_threshold=0.5,\n",
    "    show_mask_heatmaps=False\n",
    ")"
   ]
  },
  {
   "cell_type": "code",
   "execution_count": null,
   "id": "20ca3447-106b-4da5-aaae-7710c344de17",
   "metadata": {},
   "outputs": [],
   "source": [
    "label = {1: 'Airplane', 2: 'Car'}\n",
    "\n",
    "image = load(url)\n",
    "result, _ = glip_demo.run_on_web_image(image, label, 0.5)\n",
    "imshow(result, \"./visualize/img_{}.jpg\".format(0))\n"
   ]
  },
  {
   "cell_type": "code",
   "execution_count": null,
   "id": "bf5ed68f-3317-4ef8-b8cc-cea147aa5b58",
   "metadata": {},
   "outputs": [],
   "source": []
  },
  {
   "cell_type": "code",
   "execution_count": null,
   "id": "3b06bac2-da52-42b5-8494-ead9f716a934",
   "metadata": {},
   "outputs": [],
   "source": []
  },
  {
   "cell_type": "code",
   "execution_count": null,
   "id": "e07d4634-f8d9-4ffa-a83d-6b64165f6490",
   "metadata": {},
   "outputs": [],
   "source": []
  }
 ],
 "metadata": {
  "kernelspec": {
   "display_name": "Python 3 (ipykernel)",
   "language": "python",
   "name": "python3"
  },
  "language_info": {
   "codemirror_mode": {
    "name": "ipython",
    "version": 3
   },
   "file_extension": ".py",
   "mimetype": "text/x-python",
   "name": "python",
   "nbconvert_exporter": "python",
   "pygments_lexer": "ipython3",
   "version": "3.8.7"
  }
 },
 "nbformat": 4,
 "nbformat_minor": 5
}
